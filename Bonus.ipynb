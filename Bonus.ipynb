{
 "cells": [
  {
   "cell_type": "markdown",
   "metadata": {},
   "source": [
    "## 大气科学专业相关的python模块\n",
    "\n",
    "* 数据处理[numpy](http://www.numpy.org/)、[scipy](https://www.scipy.org/)、[xarray](http://xarray.pydata.org/en/stable/)\n",
    "* 画图相关 [matplotlib](http://matplotlib.org/), [SkewT](https://pypi.python.org/pypi/SkewT)\n",
    "* 地图相关 [basemap](https://matplotlib.org/basemap/), [cartopy](http://scitools.org.uk/cartopy/)\n",
    "* 处理时间 datetime\n",
    "* 数据读取 [netCDF4](http://unidata.github.io/netcdf4-python/), [pygrib](https://github.com/jswhit/pygrib), re, [pyNIO](https://www.pyngl.ucar.edu/Nio.shtml), [h5py](http://www.h5py.org/), [pyhdf](http://hdfeos.org/software/pyhdf.php)\n",
    "* WRF相关 [wrf-python](https://github.com/NCAR/wrf-python)\n",
    "* parallel [multiprocessing](https://docs.python.org/2/library/multiprocessing.html), [mpi4py](http://pythonhosted.org/mpi4py/)\n",
    "* 混合编程 [f2py](https://docs.scipy.org/doc/numpy-dev/f2py/), [ctypes](https://docs.python.org/3/library/ctypes.html)\n",
    "* 其他 [earthpy](http://earthpy.org/), [UV-CDAT](https://uvcdat.llnl.gov/index.html), [iris](http://scitools.org.uk/iris/docs/latest/index.html)\n",
    "* 一些组织 [NCAR](https://github.com/NCAR), [NASA](https://github.com/nasa), [Unidata](https://github.com/Unidata)\n"
   ]
  },
  {
   "cell_type": "code",
   "execution_count": null,
   "metadata": {
    "collapsed": true
   },
   "outputs": [],
   "source": []
  }
 ],
 "metadata": {
  "kernelspec": {
   "display_name": "Python 3",
   "language": "python",
   "name": "python3"
  },
  "language_info": {
   "codemirror_mode": {
    "name": "ipython",
    "version": 3
   },
   "file_extension": ".py",
   "mimetype": "text/x-python",
   "name": "python",
   "nbconvert_exporter": "python",
   "pygments_lexer": "ipython3",
   "version": "3.6.1"
  }
 },
 "nbformat": 4,
 "nbformat_minor": 2
}

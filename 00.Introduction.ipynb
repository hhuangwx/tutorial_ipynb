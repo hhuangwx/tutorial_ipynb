{
 "cells": [
  {
   "cell_type": "markdown",
   "metadata": {},
   "source": [
    "# Why python and how to mater python?"
   ]
  },
  {
   "cell_type": "markdown",
   "metadata": {
    "collapsed": true
   },
   "source": [
    "在大气科学领域，通常使用计算机数学建模和数值分析技术分析和解决问题的过程，一般划分为科学计算（scientific computing）和可视化（visualization）两个过程。\n",
    "大气科学学科常用的编程语言大概包括了：\n",
    "- Fortran, c/c++, java, go\n",
    "- Matlab, NCL, R, **python**\n",
    "- csh, bash\n",
    "- GrADS, SPSS, Excel, 纸笔\n",
    "\n",
    "[关于编程绘图的一些话](http://bbs.06climate.com/forum.php?mod=viewthread&tid=29178&fromuid=17569)\n",
    "\n",
    "\n",
    "解决大气科学问题的主要流程如下：\n",
    "<img src=\"./figures/fig0.png\" alt=\"Drawing\" style=\"height: 500px;\"/>\n",
    "\n"
   ]
  },
  {
   "cell_type": "markdown",
   "metadata": {},
   "source": [
    "## 科学计算中的需求"
   ]
  },
  {
   "cell_type": "markdown",
   "metadata": {},
   "source": [
    "**可重复replicability** 和 **可再现reprodicibility** 是科学性方法的的两个主要基石。 相对于常规的数值计算，科学计算有以下含义：\n",
    "\n",
    "* replicability: An author of a scientific paper that involves numerical calculations should be able to rerun the simulations and replicate the results upon request. Other scientist should also be able to perform the same calculations and obtain the same results, given the information about the methods used in a publication.\n",
    "\n",
    "* reprodicibility: The results obtained from numerical simulations should be reproducible with an independent implementation of the method, or using a different method altogether. \n",
    "\n",
    "\n",
    "为了实现这样的目标，需要：\n",
    "\n",
    "* 将不同版本的笔记和不同版本的源代码保存在一起，这些代码可以用来生成文章中的数据和图。\n",
    "\n",
    "* 如果涉及到额外的软件或者环境，记录下所需要的版本等信息，并且保证你能够随时复制出相同的环境。\n",
    "\n",
    "* 这些源代码和笔记需要进行备份（如dropbox）和保留，以供将来查阅和使用。\n",
    "\n",
    "* 随时准备好有兴趣的读者询问你的文章中使用的方法、源代码。\n",
    "\n",
    "* 最好源代码开源在网络上，供其他科研人员查用，同时建立你自己的威信。"
   ]
  },
  {
   "cell_type": "markdown",
   "metadata": {},
   "source": [
    "### 源代码管理的工具"
   ]
  },
  {
   "cell_type": "markdown",
   "metadata": {},
   "source": [
    "如何保证科学研究中的**可重复** 和 **可再现**是一个非常复杂的事情，但事实上有很多工具可供利用：\n",
    "\n",
    "* 版本控制系统软件Revision Control System (RCS) software. \n",
    "    * Good choices include:\n",
    "        * git - http://git-scm.com\n",
    "        * mercurial - http://mercurial.selenic.com. Also known as `hg`.\n",
    "        * subversion - http://subversion.apache.org. Also known as `svn`.\n",
    "\n",
    "* 在线源代码托管，包括了私有和公开仓储Online repositories for source code. Available as both private and public repositories. \n",
    "    * Some good alternatives are\n",
    "        * Github - http://www.github.com\n",
    "        * Bitbucket - http://www.bitbucket.com\n",
    "        * Privately hosted repositories on the university's or department's servers.\n",
    "\n",
    "#### Note\n",
    "\n",
    "在线仓储十分利于不同版本的底稿、图形、论文文件、数据、试验记录等等，事实上，任何数字的内容都可以保留并实时更新。并且很多托管网站提供了私有和公开的模式，十分有利于团队协作。\n",
    "Repositories are also excellent for version controlling manuscripts, figures, thesis files, data files, lab logs, etc. Basically for any digital content that must be preserved and is frequently updated. Again, both public and private repositories are readily available. They are also excellent collaboration tools!"
   ]
  },
  {
   "cell_type": "markdown",
   "metadata": {},
   "source": [
    "### 为什么用Python做科学计算和可视化？\n",
    "\n",
    "说实话，如果仅从Python语言本身来看这个问题，可能其他编程语言更有优势。不过我们有NumPy、SciPy、IPython和matplotlib程序库，它们让Python成为了科学计算的最佳选择。我们将在后面的章节中介绍这些程序库。下面来总结一些Python语言和相关科学计算程序库的综合特性，这些特性让Python比其他编程语言（如MATLAB和R等）更适合做科学计算。基本上没有一种语言可以满足以下所有特性。\n",
    "\n",
    "1. Python具有最大的用户社群\n",
    "    \n",
    "    事实上越来越多的科研人员开始使用python作为他们的主要的科学语言，并且很多代码都是开源的。\n",
    "    \n",
    "2. **简洁易读的代码**\n",
    "\n",
    "    Python代码通常都很简洁，相比其他科学计算语言更加容易理解。\n",
    "\n",
    "3. **丰富的第三方程序库**\n",
    "\n",
    "    丰富的为科学计算和可视化而设计的库。\n",
    "\n",
    "    * numpy: http://numpy.scipy.org - Numerical Python\n",
    "    * scipy: http://www.scipy.org -  Scientific Python\n",
    "    * matplotlib: http://www.matplotlib.org - graphics library\n",
    "\n",
    "4. 语言交互能力\n",
    "\n",
    "    Python具有与大多数主流技术相互操作的交互能力，被称为**胶水语言**。我们可以调用不同的编程语言的函数、代码、程序包和对象，例如MATLAB、C、C++、R、Fortran以及其他语言。还有许多方法可以实现这种交互能力，例如Ctypes、Cython和SWIG等。\n",
    "\n",
    "    * blas, atlas blas, lapack, arpack, Intel MKL, ...\n",
    "\n",
    "5. 编程范式丰富的语言设计\n",
    "\n",
    "    总的来说，Python语言的设计非常适合做科学计算，因为Python支持多种编程范式，包括过程式编程、面向对象编程、函数式编程和逻辑编程。用户可以有多种选择，可以自行确定最适合解决问题的范式。这一点在其他科学计算的编程语言中都是没有的。\n",
    "\n",
    "6. 可移植与可扩展\n",
    "\n",
    "    Python支持绝大多数平台。因此，它是一种可移植的编程语言，而且它的程序在一个平台上写完后，迁移到另一个支持Python的平台上运行时，输出结果几乎是一样的。Python背后的设计原则使得它成为一种可以进行高度扩展的语言，这就解释了为什么我们可以拥有那么多可以解决各种任务的高级程序库。\n",
    "\n",
    "7. 科学计算的良好支撑\n",
    "\n",
    "    * Parallel processing with processes and threads\n",
    "    * Interprocess communication (MPI)\n",
    "    * GPU computing (OpenCL and CUDA)\n",
    "\n",
    "8. 脚本语言\n",
    "\n",
    "    Python可以丰富的函数库（如datetime）及其对系统命令的调用能力能够轻松的胜任脚本语言的工作，并且多种编程范式的支撑使其在很多情况下比csh和bash更加好用。\n",
    "\n",
    "9. **免费与开源**\n",
    "\n",
    "    Python及其科学计算工具都可免费使用，而且都是开源的。这一点的好处是可以获取源代码。而其他大多数科学计算工具3都是独家销售的产品，其本身的算法和内容也没有向用户公开。\n"
   ]
  },
  {
   "cell_type": "markdown",
   "metadata": {},
   "source": [
    "### The scientific python software stack"
   ]
  },
  {
   "cell_type": "markdown",
   "metadata": {},
   "source": [
    "<img src=\"./figures/scientific-python-stack.svg\" width=\"300\">"
   ]
  },
  {
   "cell_type": "markdown",
   "metadata": {},
   "source": [
    "### 如何了解和掌握一门语言（或者其他技能）\n",
    "[The first 20 hours -- how to learn anything](https://www.youtube.com/watch?v=5MgBikgcWnY)\n",
    "\n",
    "4 very easy step to learn anything:\n",
    "1. **Deconstruct the skill**\n",
    "2. **Learn just enough to practice and self-correct as you practice**\n",
    "3. Remove practice barriers\n",
    "4. Practice at least 20 hours"
   ]
  },
  {
   "cell_type": "code",
   "execution_count": 2,
   "metadata": {},
   "outputs": [
    {
     "data": {
      "text/html": [
       "\n",
       "        <iframe\n",
       "            width=\"400\"\n",
       "            height=\"300\"\n",
       "            src=\"https://www.youtube.com/embed/5MgBikgcWnY\"\n",
       "            frameborder=\"0\"\n",
       "            allowfullscreen\n",
       "        ></iframe>\n",
       "        "
      ],
      "text/plain": [
       "<IPython.lib.display.YouTubeVideo at 0x107c8e9e8>"
      ]
     },
     "execution_count": 2,
     "metadata": {},
     "output_type": "execute_result"
    }
   ],
   "source": [
    "from IPython.display import YouTubeVideo\n",
    "YouTubeVideo('5MgBikgcWnY')"
   ]
  },
  {
   "cell_type": "code",
   "execution_count": null,
   "metadata": {
    "collapsed": true
   },
   "outputs": [],
   "source": []
  }
 ],
 "metadata": {
  "kernelspec": {
   "display_name": "Python 3",
   "language": "python",
   "name": "python3"
  },
  "language_info": {
   "codemirror_mode": {
    "name": "ipython",
    "version": 3
   },
   "file_extension": ".py",
   "mimetype": "text/x-python",
   "name": "python",
   "nbconvert_exporter": "python",
   "pygments_lexer": "ipython3",
   "version": "3.6.1"
  }
 },
 "nbformat": 4,
 "nbformat_minor": 1
}
